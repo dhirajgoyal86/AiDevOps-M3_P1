{
 "cells": [
  {
   "cell_type": "code",
   "execution_count": 18,
   "metadata": {},
   "outputs": [
    {
     "name": "stdout",
     "output_type": "stream",
     "text": [
      "S3 path for model s3://cop-group10/Dhiraj/model/dhiraj-repo-2021-01-09-17-19-03-763/output/model.tar.gz\n"
     ]
    }
   ],
   "source": [
    "from sagemaker.tensorflow.model import TensorFlowModel\n",
    "from sagemaker import get_execution_role\n",
    "import sagemaker as sage\n",
    "import boto3\n",
    "\n",
    "# this line of code require additional iam:GetRole permissions.\n",
    "role = get_execution_role()\n",
    "\n",
    "sess = sage.Session()\n",
    "\n",
    "client = boto3.client('sagemaker')\n",
    "name = client.list_training_jobs(SortBy='CreationTime')['TrainingJobSummaries'][0]['TrainingJobName']\n",
    "\n",
    "s3_model_path = 's3://cop-group10/Dhiraj/model/' + name + '/output/model.tar.gz'\n",
    "print('S3 path for model', s3_model_path)\n"
   ]
  },
  {
   "cell_type": "code",
   "execution_count": 19,
   "metadata": {},
   "outputs": [],
   "source": [
    "# pwd\n",
    "# !touch train1.py"
   ]
  },
  {
   "cell_type": "code",
   "execution_count": 20,
   "metadata": {},
   "outputs": [],
   "source": [
    "from sagemaker.tensorflow import TensorFlowModel\n",
    "\n",
    "\n",
    "\n",
    "sagemaker_model = TensorFlowModel(entry_point = 'train1.py',\n",
    "                                  model_data = s3_model_path,\n",
    "                                  role = role,\n",
    "                                  framework_version = '1.12.0'\n",
    "                                  )\n",
    "\n",
    "\n",
    "# sagemaker_model = TensorFlowModel(model_data = s3_model_path,\n",
    "#                                   role = role,\n",
    "#                                   framework_version = '1.12.0',\n",
    "#                                   py_version='py2',\n",
    "#                                   entry_point = 'train1.py')\n",
    "\n"
   ]
  },
  {
   "cell_type": "code",
   "execution_count": 21,
   "metadata": {},
   "outputs": [
    {
     "name": "stderr",
     "output_type": "stream",
     "text": [
      "update_endpoint is a no-op in sagemaker>=2.\n",
      "See: https://sagemaker.readthedocs.io/en/stable/v2.html for details.\n"
     ]
    },
    {
     "name": "stdout",
     "output_type": "stream",
     "text": [
      "Starting deployment...\n",
      "-------------!"
     ]
    },
    {
     "name": "stderr",
     "output_type": "stream",
     "text": [
      "The endpoint attribute has been renamed in sagemaker>=2.\n",
      "See: https://sagemaker.readthedocs.io/en/stable/v2.html for details.\n"
     ]
    },
    {
     "name": "stdout",
     "output_type": "stream",
     "text": [
      "Finished deployment of Endpoint:  sagemaker-tensorflow-serving-2021-01-09-17-46-35-648\n",
      "Endpoint name written to file: endpoint_name.txt\n"
     ]
    }
   ],
   "source": [
    "\n",
    "print('Starting deployment...')\n",
    "predictor = sagemaker_model.deploy(initial_instance_count=1,\n",
    "                                   instance_type='ml.t2.large')\n",
    "\n",
    "endpoint_name = predictor.endpoint\n",
    "print('Finished deployment of Endpoint: ', endpoint_name)\n",
    "\n",
    "endpoint_file = open(\"endpoint_name.txt\",\"w\")\n",
    "endpoint_file.write(endpoint_name)\n",
    "endpoint_file.close()\n",
    "\n",
    "print('Endpoint name written to file: endpoint_name.txt')"
   ]
  },
  {
   "cell_type": "code",
   "execution_count": null,
   "metadata": {},
   "outputs": [],
   "source": []
  },
  {
   "cell_type": "code",
   "execution_count": null,
   "metadata": {},
   "outputs": [],
   "source": []
  },
  {
   "cell_type": "code",
   "execution_count": null,
   "metadata": {},
   "outputs": [],
   "source": []
  }
 ],
 "metadata": {
  "kernelspec": {
   "display_name": "conda_python3",
   "language": "python",
   "name": "conda_python3"
  },
  "language_info": {
   "codemirror_mode": {
    "name": "ipython",
    "version": 3
   },
   "file_extension": ".py",
   "mimetype": "text/x-python",
   "name": "python",
   "nbconvert_exporter": "python",
   "pygments_lexer": "ipython3",
   "version": "3.6.10"
  }
 },
 "nbformat": 4,
 "nbformat_minor": 4
}
